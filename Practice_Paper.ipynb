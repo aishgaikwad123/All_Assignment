{
 "cells": [
  {
   "cell_type": "markdown",
   "id": "8edafa83",
   "metadata": {},
   "source": [
    "#1.Given an integer, n, perform the following conditional actions:\n",
    "•If  n is odd, print Weird \n",
    "•If n is even and in the inclusive range of 2 to 5, print Not Weird\n",
    "•If n is even and in the inclusive range of 6 to 20, print Weird\n",
    "•If n is even greater than 20, print Not Weird\n",
    "n = 3 "
   ]
  },
  {
   "cell_type": "code",
   "execution_count": 4,
   "id": "de42b0d2",
   "metadata": {},
   "outputs": [
    {
     "name": "stdout",
     "output_type": "stream",
     "text": [
      "Weird\n"
     ]
    }
   ],
   "source": [
    "n = 3\n",
    "if n % 2 != 0:\n",
    "    print(\"Weird\")    \n",
    "elif n % 2 == 0 and 2 <= n <= 5:\n",
    "    print(\"Not Weird\")\n",
    "elif n % 2 == 0 and 6 <= n <= 20:\n",
    "    print(\"Weird\")\n",
    "elif n % 2 == 0 and n > 20:\n",
    "    print(\"Not Weird\")\n"
   ]
  },
  {
   "cell_type": "markdown",
   "id": "b70f79dd",
   "metadata": {},
   "source": [
    "#2.The list of non-negative integers that are less than n = 3 is [ 0, 1, 2 ]. Print the square of each number on a separate line"
   ]
  },
  {
   "cell_type": "code",
   "execution_count": 4,
   "id": "c14d027a",
   "metadata": {},
   "outputs": [
    {
     "name": "stdout",
     "output_type": "stream",
     "text": [
      "enter a number3\n",
      "Square of 0 = 0\n",
      "Square of 1 = 1\n",
      "Square of 2 = 4\n"
     ]
    }
   ],
   "source": [
    "n = int(input(\"enter a number\"))\n",
    "for i in range(n):\n",
    "    print(\"Square of\",i,\"=\",i ** 2)\n",
    " "
   ]
  },
  {
   "cell_type": "markdown",
   "id": "cdc23fe4",
   "metadata": {},
   "source": [
    "#3.You are given three integers x, y and z representing the dimensions of a cuboid along with an integer n. Print a list of all possible coordinates given by (i, j, k) on a 3D grid where the sum of i + j + k is not equal to n. Here, 0 <= i <= x; 0 <= j <= y; 0 <= k <= z. Please use list comprehensions rather than multiple loops, as a learning exercise."
   ]
  },
  {
   "cell_type": "code",
   "execution_count": 5,
   "id": "f3f4ca2e",
   "metadata": {},
   "outputs": [
    {
     "name": "stdout",
     "output_type": "stream",
     "text": [
      "3\n",
      "3\n",
      "2\n",
      "2\n",
      "[[0, 0, 0], [0, 0, 1], [0, 1, 0], [0, 1, 2], [0, 2, 1], [0, 2, 2], [0, 3, 0], [0, 3, 1], [0, 3, 2], [1, 0, 0], [1, 0, 2], [1, 1, 1], [1, 1, 2], [1, 2, 0], [1, 2, 1], [1, 2, 2], [1, 3, 0], [1, 3, 1], [1, 3, 2], [2, 0, 1], [2, 0, 2], [2, 1, 0], [2, 1, 1], [2, 1, 2], [2, 2, 0], [2, 2, 1], [2, 2, 2], [2, 3, 0], [2, 3, 1], [2, 3, 2], [3, 0, 0], [3, 0, 1], [3, 0, 2], [3, 1, 0], [3, 1, 1], [3, 1, 2], [3, 2, 0], [3, 2, 1], [3, 2, 2], [3, 3, 0], [3, 3, 1], [3, 3, 2]]\n"
     ]
    }
   ],
   "source": [
    "if __name__ == '__main__':\n",
    "    x = int(input())\n",
    "    y = int(input())\n",
    "    z = int(input())\n",
    "    n = int(input())\n",
    "    \n",
    "    ls = [[i,j,k] for i in range(x+1) for j in range(y+1) for k in range(z+1) if i+j+k != n]\n",
    "    print(ls)"
   ]
  },
  {
   "cell_type": "markdown",
   "id": "ea8a519d",
   "metadata": {},
   "source": [
    "#4.Given the participants’ score sheet for your University Sports Day, you are required to find the runner-up score. You are given n scores. Store them in a list and find the score of the runner-up\n",
    "Given list is [2, 3, 6, 6, 5]"
   ]
  },
  {
   "cell_type": "code",
   "execution_count": 8,
   "id": "0a47c117",
   "metadata": {},
   "outputs": [
    {
     "name": "stdout",
     "output_type": "stream",
     "text": [
      "5\n",
      "2 3 6 6 5\n",
      "5\n"
     ]
    }
   ],
   "source": [
    "if __name__ == '__main__':\n",
    "    n = int(input())\n",
    "    arr = list(map(int, input().split()))\n",
    "    arr1 = set(arr)\n",
    "    arr2 = sorted(arr1)\n",
    "    print(arr2[-2])"
   ]
  },
  {
   "cell_type": "markdown",
   "id": "a7b0f6c9",
   "metadata": {},
   "source": [
    "#5.The provided code stub read in a dictionary containing key/value pairs of name:[Marks] for a list of students. Print the average of the marks array for the student name provided, showing 2 places after the decimal\n",
    "\n",
    "marks key: value pairs are\n",
    "‘alpha’:[20, 30, 40]\n",
    "‘beta’:[30, 50, 70]\n"
   ]
  },
  {
   "cell_type": "code",
   "execution_count": 3,
   "id": "cac29561",
   "metadata": {},
   "outputs": [
    {
     "name": "stdout",
     "output_type": "stream",
     "text": [
      "Enter the student name: alpha\n",
      "The average marks of alpha are 30.00\n"
     ]
    }
   ],
   "source": [
    "marks = {'alpha': [20, 30, 40], 'beta': [30, 50, 70]}\n",
    "name = input(\"Enter the student name: \")\n",
    "if name in marks:\n",
    "    average = sum(marks[name]) / len(marks[name])\n",
    "    print(f\"The average marks of {name} are {average:.2f}\")\n",
    "else:\n",
    "    print(f\"There is no student with the name {name}\")\n"
   ]
  },
  {
   "cell_type": "markdown",
   "id": "d95d4a92",
   "metadata": {},
   "source": [
    "#6.You are given a string and your task is to swap cases. In other words, convert all lowercase letters to uppercase letters and vice versa."
   ]
  },
  {
   "cell_type": "code",
   "execution_count": 2,
   "id": "6d1ee552",
   "metadata": {},
   "outputs": [
    {
     "name": "stdout",
     "output_type": "stream",
     "text": [
      "THIS IS A STRING\n"
     ]
    }
   ],
   "source": [
    "s = \"this is a string\"\n",
    "result = s.swapcase()\n",
    "print(result)"
   ]
  },
  {
   "cell_type": "markdown",
   "id": "17dbb69c",
   "metadata": {},
   "source": [
    "#7.You are given a string. Split the string on a ” ” (space) delimiter and join using a – hyphen."
   ]
  },
  {
   "cell_type": "code",
   "execution_count": 17,
   "id": "2ad3cfa6",
   "metadata": {},
   "outputs": [
    {
     "name": "stdout",
     "output_type": "stream",
     "text": [
      "This-is-a-string\n"
     ]
    }
   ],
   "source": [
    "s = \"This is a string\"\n",
    "words = s.split(\" \")\n",
    "result = \"-\".join(words)\n",
    "print(result)"
   ]
  },
  {
   "cell_type": "markdown",
   "id": "245d60dd",
   "metadata": {},
   "source": [
    "#8.In this challenge, the user enters a string and a substring. You have to print the number of times that the substring occurs in the given string. String traversal will take place from left to right, not from right to left"
   ]
  },
  {
   "cell_type": "code",
   "execution_count": 6,
   "id": "5d564d0d",
   "metadata": {},
   "outputs": [
    {
     "name": "stdout",
     "output_type": "stream",
     "text": [
      "Enter a string: hello\n",
      "Enter a substring: l\n",
      "The substring 'l' occurs 2 times in the string 'hello'\n"
     ]
    }
   ],
   "source": [
    "string = input(\"Enter a string: \")\n",
    "substring = input(\"Enter a substring: \")\n",
    "count = 0\n",
    "for i in range(len(string) - len(substring) + 1):\n",
    "    if string[i:i+len(substring)] == substring:\n",
    "        count +=1\n",
    "print(f\"The substring '{substring}' occurs {count} times in the string '{string}'\")"
   ]
  },
  {
   "cell_type": "markdown",
   "id": "4c04368b",
   "metadata": {},
   "source": [
    "#9.You are given a string S.\n",
    "Your task is to find out if the string S contains: alphanumeric characters, alphabetical characters, digits, lowercase and uppercase characters."
   ]
  },
  {
   "cell_type": "code",
   "execution_count": 9,
   "id": "e6c81417",
   "metadata": {},
   "outputs": [
    {
     "name": "stdout",
     "output_type": "stream",
     "text": [
      "Enter a string: hello\n",
      "True\n",
      "True\n",
      "False\n",
      "True\n",
      "False\n"
     ]
    }
   ],
   "source": [
    "S = input(\"Enter a string: \")\n",
    "print(S.isalnum())\n",
    "print(S.isalpha())\n",
    "print(S.isdigit())\n",
    "print(S.islower())\n",
    "print(S.isupper())\n"
   ]
  },
  {
   "cell_type": "markdown",
   "id": "0b25b492",
   "metadata": {},
   "source": [
    "#10.Write a Python program to check that a string contains only a certain set of characters (in this case a-z, A-Z and 0-9)"
   ]
  },
  {
   "cell_type": "code",
   "execution_count": 10,
   "id": "78f1b5c1",
   "metadata": {},
   "outputs": [
    {
     "name": "stdout",
     "output_type": "stream",
     "text": [
      "enter a stringaishw@rya\n",
      "False\n"
     ]
    }
   ],
   "source": [
    "allowed_chars = set((\"0123456789abcdefghijklmnopqrstuvwxyzABCDEFGHIJKLMNOPQRSTUVWXYZ_-\"))\n",
    "string = input(\"enter a string\")\n",
    "validation = set((string))\n",
    "if validation.issubset(allowed_chars):\n",
    "    print(\"True\")\n",
    "else:\n",
    "    print(\"False\")"
   ]
  },
  {
   "cell_type": "markdown",
   "id": "9e3eaa6d",
   "metadata": {},
   "source": [
    "#11.Write a Python program that matches a string that has an a followed by zero or more b's"
   ]
  },
  {
   "cell_type": "code",
   "execution_count": 15,
   "id": "d89ab005",
   "metadata": {},
   "outputs": [
    {
     "name": "stdout",
     "output_type": "stream",
     "text": [
      "Enter a string: abbbbb\n",
      "The string matches the pattern\n"
     ]
    }
   ],
   "source": [
    "string = input(\"Enter a string: \")\n",
    "import re\n",
    "pattern = re.compile(\"^a(b*)$\")\n",
    "match = pattern.match(string)\n",
    "if match:\n",
    "    print(\"The string matches the pattern\")\n",
    "else:\n",
    "    print(\"The string does not match the pattern\")\n"
   ]
  },
  {
   "cell_type": "markdown",
   "id": "e5cd227d",
   "metadata": {},
   "source": [
    "#12.Write a Python program that matches a string that has an a followed by one or more b's"
   ]
  },
  {
   "cell_type": "code",
   "execution_count": 18,
   "id": "28c3d1de",
   "metadata": {},
   "outputs": [
    {
     "name": "stdout",
     "output_type": "stream",
     "text": [
      "Enter a string: aish\n",
      "The string does not match the pattern\n"
     ]
    }
   ],
   "source": [
    "string = input(\"Enter a string: \")\n",
    "import re\n",
    "pattern = re.compile(\"ab+\")\n",
    "match = pattern.match(string)\n",
    "if match:\n",
    "    print(\"The string matches the pattern\")\n",
    "else:\n",
    "    print(\"The string does not match the pattern\")\n"
   ]
  },
  {
   "cell_type": "markdown",
   "id": "b06ef39c",
   "metadata": {},
   "source": [
    "#13.Write a Python program that matches a string that has an a followed by three 'b'"
   ]
  },
  {
   "cell_type": "code",
   "execution_count": 20,
   "id": "fdb5f5b4",
   "metadata": {},
   "outputs": [
    {
     "name": "stdout",
     "output_type": "stream",
     "text": [
      "Enter a string: ab\n",
      "The string does not match the pattern\n"
     ]
    }
   ],
   "source": [
    "string = input(\"Enter a string: \")\n",
    "import re\n",
    "pattern = re.compile(\"ab{3}\")\n",
    "match = pattern.match(string)\n",
    "if match:\n",
    "    print(\"The string matches the pattern\")\n",
    "else:\n",
    "    print(\"The string does not match the pattern\")\n"
   ]
  },
  {
   "cell_type": "markdown",
   "id": "c24de8e9",
   "metadata": {},
   "source": [
    "#14.Write a Python program that matches a string that has an a followed by two to three 'b'"
   ]
  },
  {
   "cell_type": "code",
   "execution_count": 25,
   "id": "85cf889e",
   "metadata": {},
   "outputs": [
    {
     "name": "stdout",
     "output_type": "stream",
     "text": [
      "Enter a string: abb\n",
      "The string matches the pattern\n"
     ]
    }
   ],
   "source": [
    "string = input(\"Enter a string: \")\n",
    "import re\n",
    "pattern = re.compile(\"ab{2,3}\")\n",
    "match=pattern.match(string)\n",
    "if match:\n",
    "    print(\"The string matches the pattern\")\n",
    "else:\n",
    "    print(\"The string does not match the pattern\")\n"
   ]
  },
  {
   "cell_type": "markdown",
   "id": "254f88fb",
   "metadata": {},
   "source": [
    "#15.Write a Python program to find sequences of lowercase letters joined with a underscore"
   ]
  },
  {
   "cell_type": "code",
   "execution_count": 28,
   "id": "ee00ceb0",
   "metadata": {},
   "outputs": [
    {
     "name": "stdout",
     "output_type": "stream",
     "text": [
      "Enter a string: ad_as\n",
      "The string matches the pattern\n"
     ]
    }
   ],
   "source": [
    "string = input(\"Enter a string: \")\n",
    "import re\n",
    "pattern = re.compile(\"^[a-z]+_[a-z]+$\")\n",
    "match = pattern.match(string)\n",
    "if match:\n",
    "    print(\"The string matches the pattern\")\n",
    "else:\n",
    "    print(\"The string does not match the pattern\")\n"
   ]
  },
  {
   "cell_type": "markdown",
   "id": "e590cc13",
   "metadata": {},
   "source": [
    "#16.Write a Python program to find the sequences of one upper case letter followed by lower case letters."
   ]
  },
  {
   "cell_type": "code",
   "execution_count": 30,
   "id": "0b512dd9",
   "metadata": {},
   "outputs": [
    {
     "name": "stdout",
     "output_type": "stream",
     "text": [
      "Enter a string: Aish\n",
      "The string matches the pattern\n"
     ]
    }
   ],
   "source": [
    "string = input(\"Enter a string: \")\n",
    "import re\n",
    "pattern = re.compile(\"[A-Z][a-z]+\")\n",
    "match = pattern.match(string)\n",
    "if match:\n",
    "    print(\"The string matches the pattern\")\n",
    "else:\n",
    "    print(\"The string does not match the pattern\")\n"
   ]
  },
  {
   "cell_type": "markdown",
   "id": "9510c19d",
   "metadata": {},
   "source": [
    "#17.Write a Python program that matches a string that has an 'a' followed by anything, ending in 'b'."
   ]
  },
  {
   "cell_type": "code",
   "execution_count": 32,
   "id": "5240cec2",
   "metadata": {},
   "outputs": [
    {
     "name": "stdout",
     "output_type": "stream",
     "text": [
      "Enter a string: abbbb\n",
      "The string matches the pattern\n"
     ]
    }
   ],
   "source": [
    "string = input(\"Enter a string: \")\n",
    "import re\n",
    "pattern = re.compile(\"a.*b$\")\n",
    "match = pattern.match(string)\n",
    "if match:\n",
    "    print(\"The string matches the pattern\")\n",
    "else:\n",
    "    print(\"The string does not match the pattern\")"
   ]
  },
  {
   "cell_type": "markdown",
   "id": "fc1459db",
   "metadata": {},
   "source": [
    "#18. Write a Python program that matches a word at the beginning of a string."
   ]
  },
  {
   "cell_type": "code",
   "execution_count": 37,
   "id": "a501c942",
   "metadata": {},
   "outputs": [
    {
     "name": "stdout",
     "output_type": "stream",
     "text": [
      "Enter a string: 1aannn\n",
      "The string matches the pattern\n"
     ]
    }
   ],
   "source": [
    "string = input(\"Enter a string: \")\n",
    "import re\n",
    "pattern = re.compile(r\"^\\w+\")\n",
    "match = pattern.match(string)\n",
    "if match:\n",
    "    print(\"The string matches the pattern\")\n",
    "else:\n",
    "    print(\"The string does not match the pattern\")"
   ]
  },
  {
   "cell_type": "markdown",
   "id": "ff64c6bc",
   "metadata": {},
   "source": [
    "#19.Write a Python program that matches a word at the end of string, with optional punctuation."
   ]
  },
  {
   "cell_type": "code",
   "execution_count": 40,
   "id": "d694e71f",
   "metadata": {},
   "outputs": [
    {
     "name": "stdout",
     "output_type": "stream",
     "text": [
      "world!\n"
     ]
    }
   ],
   "source": [
    "import re\n",
    "\n",
    "def match_word_end(text):\n",
    "    pattern = r\"\\w+[,.?!]?$\"\n",
    "    match = re.search(pattern, text)\n",
    "    if match:\n",
    "        return match.group()\n",
    "    else:\n",
    "        return None\n",
    "print(match_word_end(\"Hello, world!\")) "
   ]
  },
  {
   "cell_type": "markdown",
   "id": "e43860dd",
   "metadata": {},
   "source": [
    "#20.Write a Python program that matches a word containing 'z', not at the start or end of the word."
   ]
  },
  {
   "cell_type": "code",
   "execution_count": 48,
   "id": "a10acb7e",
   "metadata": {},
   "outputs": [
    {
     "name": "stdout",
     "output_type": "stream",
     "text": [
      "[' zigzag']\n"
     ]
    }
   ],
   "source": [
    "import re\n",
    "\n",
    "def match_z(text):\n",
    "    pattern = r'\\b[^zZ]\\w*z\\w*[^zZ]\\b'\n",
    "    matches = re.findall(pattern, text)\n",
    "    return matches\n",
    "\n",
    "# Test the function with some examples\n",
    "text1 = \"Python Exercises in zigzag.\"\n",
    "print(match_z(text1)) "
   ]
  },
  {
   "cell_type": "markdown",
   "id": "8a9b6c67",
   "metadata": {},
   "source": [
    "#21. Write a Python program where a string will start with a specific number."
   ]
  },
  {
   "cell_type": "code",
   "execution_count": 55,
   "id": "f33a74f3",
   "metadata": {},
   "outputs": [
    {
     "name": "stdout",
     "output_type": "stream",
     "text": [
      "True\n"
     ]
    }
   ],
   "source": [
    "import re\n",
    "\n",
    "def starts_with_number(text, num):\n",
    "    pattern = r\"^\" + str(num)\n",
    "    return bool(re.match(pattern, text))\n",
    "text1 = \"42 is the answer to everything.\"\n",
    "print(starts_with_number(text1, 42)) # True\n"
   ]
  },
  {
   "cell_type": "markdown",
   "id": "52bd1256",
   "metadata": {},
   "source": [
    "#22.Write a Python program to check for a number at the end of a string."
   ]
  },
  {
   "cell_type": "code",
   "execution_count": 57,
   "id": "a848bf3c",
   "metadata": {},
   "outputs": [
    {
     "name": "stdout",
     "output_type": "stream",
     "text": [
      "True\n"
     ]
    }
   ],
   "source": [
    "import re\n",
    "\n",
    "def ends_with_number(text):\n",
    "    pattern = r'\\d+$'\n",
    "    return bool(re.search(pattern, text))\n",
    "\n",
    "text1 = \"The answer is 42\"\n",
    "\n",
    "print(ends_with_number(text1))\n"
   ]
  },
  {
   "cell_type": "markdown",
   "id": "7caf005d",
   "metadata": {},
   "source": [
    "#23.Write a Python program to search the numbers (0-9) of length between 1 to 3 in a given string."
   ]
  },
  {
   "cell_type": "code",
   "execution_count": 58,
   "id": "371c873f",
   "metadata": {},
   "outputs": [
    {
     "name": "stdout",
     "output_type": "stream",
     "text": [
      "['1', '12', '13', '345']\n"
     ]
    }
   ],
   "source": [
    "import re\n",
    "\n",
    "def find_numbers(text):\n",
    "    pattern = r'\\b\\d{1,3}\\b'\n",
    "    matches = re.findall(pattern, text)\n",
    "    return matches\n",
    "text1 = \"Exercises number 1, 12, 13, and 345 are important\"\n",
    "print(find_numbers(text1))"
   ]
  },
  {
   "cell_type": "markdown",
   "id": "15b1f547",
   "metadata": {},
   "source": [
    "#24.Write a Python program to search some literals strings in a string. Go to the editor Sample text : 'The quick brown fox jumps over the lazy dog.' Searched words : 'fox', 'dog', 'horse'"
   ]
  },
  {
   "cell_type": "code",
   "execution_count": 59,
   "id": "1f546a3e",
   "metadata": {},
   "outputs": [
    {
     "name": "stdout",
     "output_type": "stream",
     "text": [
      "Searching for \"fox\" in \"The quick brown fox jumps over the lazy dog.\" -> Matched!\n",
      "Searching for \"dog\" in \"The quick brown fox jumps over the lazy dog.\" -> Matched!\n",
      "Searching for \"horse\" in \"The quick brown fox jumps over the lazy dog.\" -> Not Matched!\n"
     ]
    }
   ],
   "source": [
    "import re\n",
    "\n",
    "def search_literals(text, words):\n",
    "    for word in words:\n",
    "        print('Searching for \"%s\" in \"%s\" ->' % (word, text), end=' ')\n",
    "        if re.search(word, text):\n",
    "            print('Matched!')\n",
    "        else:\n",
    "            print('Not Matched!')\n",
    "text = 'The quick brown fox jumps over the lazy dog.'\n",
    "words = ['fox', 'dog', 'horse']\n",
    "search_literals(text, words)"
   ]
  },
  {
   "cell_type": "markdown",
   "id": "428b3cf5",
   "metadata": {},
   "source": [
    "#25.Write a Python program to search a literals string in a string and also find the location within the original string where the pattern occurs"
   ]
  },
  {
   "cell_type": "code",
   "execution_count": 61,
   "id": "723024cc",
   "metadata": {},
   "outputs": [
    {
     "name": "stdout",
     "output_type": "stream",
     "text": [
      "Searching for \"fox\" in \"The quick brown fox jumps over the lazy dog.\" -> Found at 16 to 19\n"
     ]
    }
   ],
   "source": [
    "import re\n",
    "\n",
    "def search_literal(text, word):\n",
    "    print('Searching for \"%s\" in \"%s\" ->' % (word, text), end=' ')\n",
    "    match = re.search(word, text)\n",
    "    if match:\n",
    "        s = match.start()\n",
    "        e = match.end()\n",
    "        print('Found at %d to %d' % (s, e))\n",
    "    else:\n",
    "        print('Not found')\n",
    "text = 'The quick brown fox jumps over the lazy dog.'\n",
    "word = 'fox'\n",
    "search_literal(text, word)"
   ]
  },
  {
   "cell_type": "markdown",
   "id": "94828527",
   "metadata": {},
   "source": [
    "#26.Write a Python program to find the substrings within a string.\n",
    "\n",
    "Sample text :\n",
    "'Python exercises, PHP exercises, C# exercises'\n",
    "\n",
    "Pattern :\n",
    "'exercises'\n",
    "\n",
    "Note: There are two instances of exercises in the input string\n"
   ]
  },
  {
   "cell_type": "code",
   "execution_count": 62,
   "id": "305fd7c8",
   "metadata": {},
   "outputs": [
    {
     "name": "stdout",
     "output_type": "stream",
     "text": [
      "['exercises', 'exercises', 'exercises']\n"
     ]
    }
   ],
   "source": [
    "import re\n",
    "\n",
    "def find_substrings(text, pattern):\n",
    "    matches = re.findall(pattern, text) \n",
    "    return matches \n",
    "text = 'Python exercises, PHP exercises, C# exercises'\n",
    "pattern = 'exercises'\n",
    "print(find_substrings(text, pattern)) "
   ]
  },
  {
   "cell_type": "markdown",
   "id": "4b4afc6b",
   "metadata": {},
   "source": [
    "#27. Write a Python program to find the occurrence and position of the substrings within a string"
   ]
  },
  {
   "cell_type": "code",
   "execution_count": 63,
   "id": "41f13eeb",
   "metadata": {},
   "outputs": [
    {
     "name": "stdout",
     "output_type": "stream",
     "text": [
      "First occurrence of 'gram' is at index 21\n",
      "Next occurrence of 'gram' is at index -1\n",
      "Occurrence of 'gram' in slice [10:20] is at index -1\n"
     ]
    }
   ],
   "source": [
    "text = \"Python is a great programming language\"\n",
    "sub = \"gram\"\n",
    "index = text.find(sub)\n",
    "print(f\"First occurrence of '{sub}' is at index {index}\")\n",
    "\n",
    "index = text.find(sub, index + 1)\n",
    "print(f\"Next occurrence of '{sub}' is at index {index}\")\n",
    "\n",
    "index = text.find(sub, 10, 20)\n",
    "print(f\"Occurrence of '{sub}' in slice [10:20] is at index {index}\")\n"
   ]
  },
  {
   "cell_type": "markdown",
   "id": "96ca9fd1",
   "metadata": {},
   "source": [
    "#28. Write a Python program to replace whitespaces with an underscore and vice versa."
   ]
  },
  {
   "cell_type": "code",
   "execution_count": 64,
   "id": "c31b340a",
   "metadata": {},
   "outputs": [
    {
     "name": "stdout",
     "output_type": "stream",
     "text": [
      "Python_Exercise\n",
      "Python Exercise\n"
     ]
    }
   ],
   "source": [
    "import re\n",
    "text=\"Python Exercise\"\n",
    "text=text.replace(\" \",\"_\")\n",
    "print(text)\n",
    "text=text.replace(\"_\",\" \")\n",
    "print(text)"
   ]
  },
  {
   "cell_type": "markdown",
   "id": "8629d3ab",
   "metadata": {},
   "source": [
    "#29. Write a Python program to extract year, month and date from a an url."
   ]
  },
  {
   "cell_type": "code",
   "execution_count": 66,
   "id": "2b19898e",
   "metadata": {},
   "outputs": [
    {
     "name": "stdout",
     "output_type": "stream",
     "text": [
      "Year:2023,Month:12,Day:15\n"
     ]
    }
   ],
   "source": [
    "from urllib.parse import urlparse,parse_qs\n",
    "url=\"https://example.com/news?year=2023&month=12&day=15\"\n",
    "parsed_url=urlparse(url)\n",
    "query_params=parse_qs(parsed_url.query)\n",
    "year=query_params.get('year',[''])[0]\n",
    "month=query_params.get('month',[''])[0]\n",
    "day=query_params.get('day',[''])[0]\n",
    "print(f\"Year:{year},Month:{month},Day:{day}\")"
   ]
  },
  {
   "cell_type": "markdown",
   "id": "2d2d7f91",
   "metadata": {},
   "source": [
    "#30.Write a Python program to convert a date of yyyy-mm-dd format to dd-mm-yyyy format."
   ]
  },
  {
   "cell_type": "code",
   "execution_count": 65,
   "id": "933d8281",
   "metadata": {},
   "outputs": [
    {
     "name": "stdout",
     "output_type": "stream",
     "text": [
      "original date:2002-19-12\n",
      "converted date:12-19-2002\n"
     ]
    }
   ],
   "source": [
    "from datetime import date\n",
    "def convert_date(input_date):\n",
    "    year,month,day=input_date.split('-')\n",
    "    output_date=f\"{day}-{month}-{year}\"\n",
    "    return output_date\n",
    "input_date=\"2002-19-12\"\n",
    "converted_date=convert_date(input_date)\n",
    "print(f\"original date:{input_date}\")\n",
    "print(f\"converted date:{converted_date}\")"
   ]
  },
  {
   "cell_type": "code",
   "execution_count": null,
   "id": "0a1ec317",
   "metadata": {},
   "outputs": [],
   "source": []
  }
 ],
 "metadata": {
  "kernelspec": {
   "display_name": "Python 3 (ipykernel)",
   "language": "python",
   "name": "python3"
  },
  "language_info": {
   "codemirror_mode": {
    "name": "ipython",
    "version": 3
   },
   "file_extension": ".py",
   "mimetype": "text/x-python",
   "name": "python",
   "nbconvert_exporter": "python",
   "pygments_lexer": "ipython3",
   "version": "3.9.13"
  }
 },
 "nbformat": 4,
 "nbformat_minor": 5
}
